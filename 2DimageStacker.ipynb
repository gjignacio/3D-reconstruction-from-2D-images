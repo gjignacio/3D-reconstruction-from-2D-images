{
 "cells": [
  {
   "cell_type": "markdown",
   "metadata": {},
   "source": [
    "# Reconstruccion de volumen 3D a partir de imágenes 2D\n",
    "### Juan Ignacio Gómez"
   ]
  },
  {
   "cell_type": "code",
   "execution_count": 6,
   "metadata": {},
   "outputs": [],
   "source": [
    "# IMPORTACION DE MODULOS:\n",
    "import os\n",
    "from os.path import isfile, join\n",
    "import numpy as np\n",
    "import matplotlib.pyplot as plt\n",
    "from PIL import Image\n",
    "import glob\n"
   ]
  },
  {
   "cell_type": "code",
   "execution_count": 11,
   "metadata": {},
   "outputs": [],
   "source": [
    "# LECTURA DE IMAGENES 2D:\n",
    "extensionArchivosImagenes = \".bmp\" #Extension de los archivos de imagenes sobre los cuales se va a trabajar.\n",
    "directorioDatos = (\"data\")  #Directorio donde se encuentran los datos de imagenes.\n",
    "directorioTrabajo = os.getcwd() #Directorio de trabajo.\n",
    "\n",
    "#Se listan aquellos archivos que, dentro del directorio de datos, tengan el tipo de extension especificada en la \n",
    "#variabla 'extensionArchivosImagenes'\n",
    "rutasArchivosImagenes = glob.glob(join(directorioTrabajo,directorioDatos)+ \"/*\" + extensionArchivosImagenes)"
   ]
  },
  {
   "cell_type": "code",
   "execution_count": 12,
   "metadata": {},
   "outputs": [
    {
     "name": "stdout",
     "output_type": "stream",
     "text": [
      "Dimensiones OK. Continuar con el proceso.\n"
     ]
    }
   ],
   "source": [
    "# CONTROL DE CALIDAD:\n",
    "# Se controla que las dimensiones de las imagenes 2D a utilizar sean todas iguales\n",
    "dimensionesImagenes = np.empty([len(rutasArchivosImagenes),2])\n",
    "\n",
    "for (i,ruta) in zip(range(len(rutasArchivosImagenes)),rutasArchivosImagenes):\n",
    "    imagen = np.array(Image.open(ruta))\n",
    "    dimensionesImagenes[i,:] = np.array(imagen.shape)\n",
    "\n",
    "if np.all(dimensionesImagenes == dimensionesImagenes[0,:]):\n",
    "    print(\"Dimensiones OK. Continuar con el proceso.\")\n",
    "else:\n",
    "    print(\"Verificar que las dimensiones de las imagenes coincidan previo a continuar con la reconstruccion\")"
   ]
  },
  {
   "cell_type": "code",
   "execution_count": 13,
   "metadata": {},
   "outputs": [],
   "source": [
    "#Reordeno toda la informacion en un unico volumen.\n",
    "datos = np.empty([len(rutasArchivosImagenes),840,1000])\n",
    "\n",
    "for (i,ruta) in zip(range(len(rutasArchivosImagenes)),rutasArchivosImagenes):\n",
    "    datos[i,:,:] = np.array(Image.open(ruta))"
   ]
  },
  {
   "cell_type": "code",
   "execution_count": null,
   "metadata": {},
   "outputs": [],
   "source": []
  },
  {
   "cell_type": "code",
   "execution_count": 35,
   "metadata": {},
   "outputs": [
    {
     "data": {
      "text/plain": [
       "range(0, 6)"
      ]
     },
     "execution_count": 35,
     "metadata": {},
     "output_type": "execute_result"
    }
   ],
   "source": [
    "range(len(rutasArchivosImagenes))"
   ]
  },
  {
   "cell_type": "code",
   "execution_count": 36,
   "metadata": {},
   "outputs": [
    {
     "data": {
      "text/plain": [
       "(6, 840, 1000)"
      ]
     },
     "execution_count": 36,
     "metadata": {},
     "output_type": "execute_result"
    }
   ],
   "source": [
    "datos.shape"
   ]
  },
  {
   "cell_type": "code",
   "execution_count": 8,
   "metadata": {},
   "outputs": [
    {
     "name": "stdout",
     "output_type": "stream",
     "text": [
      "['/home/igncio/Documents/python_development/oil_n_gas/image_stacker/datos/TRA37_10nmxy_20nmz_slice_0146.bmp', '/home/igncio/Documents/python_development/oil_n_gas/image_stacker/datos/TRA37_10nmxy_20nmz_slice_0144.bmp', '/home/igncio/Documents/python_development/oil_n_gas/image_stacker/datos/TRA37_10nmxy_20nmz_slice_0145.bmp', '/home/igncio/Documents/python_development/oil_n_gas/image_stacker/datos/TRA37_10nmxy_20nmz_slice_0148.bmp', '/home/igncio/Documents/python_development/oil_n_gas/image_stacker/datos/TRA37_10nmxy_20nmz_slice_0147.bmp', '/home/igncio/Documents/python_development/oil_n_gas/image_stacker/datos/TRA37_10nmxy_20nmz_slice_0149.bmp']\n"
     ]
    }
   ],
   "source": [
    "print(rutasArchivosImagenes)"
   ]
  },
  {
   "cell_type": "code",
   "execution_count": 18,
   "metadata": {},
   "outputs": [
    {
     "data": {
      "text/plain": [
       "<matplotlib.image.AxesImage at 0x7f9d1c2b3410>"
      ]
     },
     "execution_count": 18,
     "metadata": {},
     "output_type": "execute_result"
    },
    {
     "data": {
      "image/png": "[encoded data removed]",
      "text/plain": [
       "<Figure size 1152x144 with 1 Axes>"
      ]
     },
     "metadata": {
      "needs_background": "light"
     },
     "output_type": "display_data"
    }
   ],
   "source": [
    "plt.matshow(datos[:,:,56])"
   ]
  },
  {
   "cell_type": "code",
   "execution_count": null,
   "metadata": {},
   "outputs": [],
   "source": []
  }
 ],
 "metadata": {
  "kernelspec": {
   "display_name": "Python 3",
   "language": "python",
   "name": "python3"
  },
  "language_info": {
   "codemirror_mode": {
    "name": "ipython",
    "version": 3
   },
   "file_extension": ".py",
   "mimetype": "text/x-python",
   "name": "python",
   "nbconvert_exporter": "python",
   "pygments_lexer": "ipython3",
   "version": "3.7.4"
  }
 },
 "nbformat": 4,
 "nbformat_minor": 2
}
